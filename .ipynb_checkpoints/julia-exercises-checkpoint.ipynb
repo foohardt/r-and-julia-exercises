{
 "cells": [
  {
   "cell_type": "markdown",
   "id": "627c21b3",
   "metadata": {},
   "source": [
    "# Julia Exercises"
   ]
  },
  {
   "cell_type": "markdown",
   "id": "40e9a254",
   "metadata": {},
   "source": [
    "### Create a 2x4 two dimensional matrix with random floats in it and in the next step determine the biggest element. "
   ]
  },
  {
   "cell_type": "code",
   "execution_count": 20,
   "id": "5a261304",
   "metadata": {},
   "outputs": [
    {
     "name": "stdout",
     "output_type": "stream",
     "text": [
      "[0.45455607206067794 0.7119391874846005 0.7470252355106952 0.44278215257605047; 0.6698844424968327 0.38843971643144837 0.3048927903087991 0.12171432316456621]"
     ]
    },
    {
     "data": {
      "text/plain": [
       "(0.7470252355106952, CartesianIndex(1, 3))"
      ]
     },
     "execution_count": 20,
     "metadata": {},
     "output_type": "execute_result"
    }
   ],
   "source": [
    "matrix = rand(Float64, (2, 4))\n",
    "print(matrix)\n",
    "findmax(matrix)"
   ]
  },
  {
   "cell_type": "markdown",
   "id": "36da6ec7",
   "metadata": {},
   "source": [
    "### 1. Create two matrices of the same layout and test if addition and subtraction of the matrix works as expected: C = A + B \n"
   ]
  },
  {
   "cell_type": "code",
   "execution_count": 21,
   "id": "af4eb48a",
   "metadata": {},
   "outputs": [
    {
     "name": "stdout",
     "output_type": "stream",
     "text": [
      "[5207336508089145601 -8583916175376123437; 1116929561539011823 -6905519354763350620][1862848720760216114 9100723243168290737; 7401740151418348177 379080300792948992]"
     ]
    },
    {
     "data": {
      "text/plain": [
       "2×2 Matrix{Int64}:\n",
       " 7070185228849361715    516807067792167300\n",
       " 8518669712957360000  -6526439053970401628"
      ]
     },
     "execution_count": 21,
     "metadata": {},
     "output_type": "execute_result"
    }
   ],
   "source": [
    "A = rand(Int, (2, 2))\n",
    "B = rand(Int, (2, 2))\n",
    "print(A, B)\n",
    "C = A + B\n",
    "\n",
    "# Addition of matrices works as expected."
   ]
  },
  {
   "cell_type": "markdown",
   "id": "ba40847f",
   "metadata": {},
   "source": [
    "### 2. Now compare matrix multiplication either this way A * B and this way A .* B. Whats the difference?! "
   ]
  },
  {
   "cell_type": "code",
   "execution_count": 24,
   "id": "b30d934e",
   "metadata": {},
   "outputs": [
    {
     "name": "stdout",
     "output_type": "stream",
     "text": [
      "[-1307523858927498644 -2702393495113535718; -6533535724698736625 7075700810075454536][-610562354239452491 -1910214999059294985; 6284741570197125180 -3569131330507504793]"
     ]
    },
    {
     "data": {
      "text/plain": [
       "2×2 Matrix{Int64}:\n",
       " 509202051758559348  -3756444589731922006\n",
       " 840018300993718651    318962202873244529"
      ]
     },
     "execution_count": 24,
     "metadata": {},
     "output_type": "execute_result"
    }
   ],
   "source": [
    "A = rand(Int, (2, 2))\n",
    "B = rand(Int, (2, 2))\n",
    "print(A, B)\n",
    "C = A * B"
   ]
  },
  {
   "cell_type": "code",
   "execution_count": 1,
   "id": "0fc4a2c9",
   "metadata": {},
   "outputs": [
    {
     "ename": "LoadError",
     "evalue": "UndefVarError: A not defined",
     "output_type": "error",
     "traceback": [
      "UndefVarError: A not defined",
      "",
      "Stacktrace:",
      " [1] top-level scope",
      "   @ In[1]:1",
      " [2] eval",
      "   @ ./boot.jl:373 [inlined]",
      " [3] include_string(mapexpr::typeof(REPL.softscope), mod::Module, code::String, filename::String)",
      "   @ Base ./loading.jl:1196"
     ]
    }
   ],
   "source": [
    "C = A .* B\n",
    "\n",
    "# .* is the vectorized dot operation for *"
   ]
  },
  {
   "cell_type": "markdown",
   "id": "bd8f766e",
   "metadata": {},
   "source": [
    "### 3. What about matrix division with \" / \" or \" \\ \"?! "
   ]
  },
  {
   "cell_type": "code",
   "execution_count": 2,
   "id": "0ab21c69",
   "metadata": {},
   "outputs": [
    {
     "name": "stdout",
     "output_type": "stream",
     "text": [
      "[1475123963649551102 2343448317971825109; -5826962464229974957 -6668796168642602915][8387990853354523134 6158004318757823299; 5329312895630838814 -4191990951561016767]"
     ]
    }
   ],
   "source": [
    "A = rand(Int, (2, 2))\n",
    "B = rand(Int, (2, 2))\n",
    "print(A, B)"
   ]
  },
  {
   "cell_type": "code",
   "execution_count": 4,
   "id": "583d2989",
   "metadata": {},
   "outputs": [
    {
     "data": {
      "text/plain": [
       "2×2 Matrix{Float64}:\n",
       "  0.274678  -0.15553\n",
       " -0.882118   0.295017"
      ]
     },
     "execution_count": 4,
     "metadata": {},
     "output_type": "execute_result"
    }
   ],
   "source": [
    "C = A / B\n",
    "# / is the right division operator: multiplication of x by the inverse of y on the right. Gives floating-point results for integer arguments."
   ]
  },
  {
   "cell_type": "code",
   "execution_count": 5,
   "id": "a615db6e",
   "metadata": {},
   "outputs": [
    {
     "data": {
      "text/plain": [
       "2×2 Matrix{Float64}:\n",
       " -17.9227  -8.18327\n",
       "  14.8611   7.77885"
      ]
     },
     "execution_count": 5,
     "metadata": {},
     "output_type": "execute_result"
    }
   ],
   "source": [
    "C = A \\ B\n",
    "# \\ is the left division operator: multiplication of y by the inverse of x on the left. Gives floating-point results for integer arguments."
   ]
  },
  {
   "cell_type": "markdown",
   "id": "b3f0a092",
   "metadata": {},
   "source": [
    "### 4. Create a 3x3 integer matrix A with useful numbers. Now try A+1, A-1, A*2, A/2. "
   ]
  },
  {
   "cell_type": "code",
   "execution_count": 6,
   "id": "0056e6ae",
   "metadata": {},
   "outputs": [
    {
     "data": {
      "text/plain": [
       "3×3 Matrix{Int64}:\n",
       " 1629032702256444492  6578474164847998651  -917588179795324143\n",
       " 6226473091005116750  8816133095702561808  2031410829125668517\n",
       " 8631852987419196365   345586587194571696  4660179632962710895"
      ]
     },
     "execution_count": 6,
     "metadata": {},
     "output_type": "execute_result"
    }
   ],
   "source": [
    "A = rand(Int, (3, 3))"
   ]
  },
  {
   "cell_type": "code",
   "execution_count": 11,
   "id": "a9331a74",
   "metadata": {},
   "outputs": [
    {
     "data": {
      "text/plain": [
       "3×3 Matrix{Int64}:\n",
       " 1629032702256444493  6578474164847998652  -917588179795324142\n",
       " 6226473091005116751  8816133095702561809  2031410829125668518\n",
       " 8631852987419196366   345586587194571697  4660179632962710896"
      ]
     },
     "execution_count": 11,
     "metadata": {},
     "output_type": "execute_result"
    }
   ],
   "source": [
    "A.+1"
   ]
  },
  {
   "cell_type": "code",
   "execution_count": 12,
   "id": "7f8eed4f",
   "metadata": {},
   "outputs": [
    {
     "data": {
      "text/plain": [
       "3×3 Matrix{Int64}:\n",
       " 1629032702256444491  6578474164847998650  -917588179795324144\n",
       " 6226473091005116749  8816133095702561807  2031410829125668516\n",
       " 8631852987419196364   345586587194571695  4660179632962710894"
      ]
     },
     "execution_count": 12,
     "metadata": {},
     "output_type": "execute_result"
    }
   ],
   "source": [
    "A.-1"
   ]
  },
  {
   "cell_type": "code",
   "execution_count": 13,
   "id": "a21e7d5b",
   "metadata": {
    "scrolled": true
   },
   "outputs": [
    {
     "data": {
      "text/plain": [
       "3×3 Matrix{Int64}:\n",
       "  3258065404512888984  -5289795744013554314  -1835176359590648286\n",
       " -5993797891699318116   -814477882304428000   4062821658251337034\n",
       " -1183038098871158886    691173174389143392  -9126384807784129826"
      ]
     },
     "execution_count": 13,
     "metadata": {},
     "output_type": "execute_result"
    }
   ],
   "source": [
    "A*2"
   ]
  },
  {
   "cell_type": "code",
   "execution_count": 14,
   "id": "c278d79f",
   "metadata": {
    "scrolled": true
   },
   "outputs": [
    {
     "data": {
      "text/plain": [
       "3×3 Matrix{Float64}:\n",
       " 8.14516e17  3.28924e18  -4.58794e17\n",
       " 3.11324e18  4.40807e18   1.01571e18\n",
       " 4.31593e18  1.72793e17   2.33009e18"
      ]
     },
     "execution_count": 14,
     "metadata": {},
     "output_type": "execute_result"
    }
   ],
   "source": [
    "A/2"
   ]
  },
  {
   "cell_type": "markdown",
   "id": "032bfba8",
   "metadata": {},
   "source": [
    "### 5. Now multiply a 3x4 matrix with a suitable (4)vector. "
   ]
  },
  {
   "cell_type": "code",
   "execution_count": 15,
   "id": "9ed6b716",
   "metadata": {},
   "outputs": [
    {
     "data": {
      "text/plain": [
       "3×4 Matrix{Int64}:\n",
       " -6219306339957019846  -2719736725681319568  …  -7387291831452644779\n",
       "  6178355094441990377   3164764708599635070     -8923929142168171407\n",
       " -2282062324968776887   2555741867047146679     -8398918107700460740"
      ]
     },
     "execution_count": 15,
     "metadata": {},
     "output_type": "execute_result"
    }
   ],
   "source": [
    "A = rand(Int, (3, 4))"
   ]
  },
  {
   "cell_type": "code",
   "execution_count": 16,
   "id": "a91a4c86",
   "metadata": {},
   "outputs": [
    {
     "data": {
      "text/plain": [
       "3×4 Matrix{Int64}:\n",
       "  6008131393795511924  -5439473451362639136  …  3672160410804262058\n",
       " -6090033884825570862   6329529417199270140      598885789373208802\n",
       " -4564124649937553774   5111483734094293358     1648907858308630136"
      ]
     },
     "execution_count": 16,
     "metadata": {},
     "output_type": "execute_result"
    }
   ],
   "source": [
    "C = A .* [2, 2, 2]"
   ]
  },
  {
   "cell_type": "code",
   "execution_count": null,
   "id": "d6eae312",
   "metadata": {},
   "outputs": [],
   "source": []
  }
 ],
 "metadata": {
  "kernelspec": {
   "display_name": "Julia 1.7.2",
   "language": "julia",
   "name": "julia-1.7"
  },
  "language_info": {
   "file_extension": ".jl",
   "mimetype": "application/julia",
   "name": "julia",
   "version": "1.7.2"
  }
 },
 "nbformat": 4,
 "nbformat_minor": 5
}
